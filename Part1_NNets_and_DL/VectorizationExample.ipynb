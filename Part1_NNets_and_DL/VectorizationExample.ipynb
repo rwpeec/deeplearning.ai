{
 "cells": [
  {
   "cell_type": "code",
   "execution_count": 1,
   "metadata": {
    "collapsed": false
   },
   "outputs": [
    {
     "name": "stdout",
     "output_type": "stream",
     "text": [
      "[1 2 3 4]\n"
     ]
    }
   ],
   "source": [
    "import numpy as np\n",
    "a = np.array([1,2,3,4])\n",
    "print (a)"
   ]
  },
  {
   "cell_type": "code",
   "execution_count": 16,
   "metadata": {
    "collapsed": false
   },
   "outputs": [
    {
     "name": "stdout",
     "output_type": "stream",
     "text": [
      "(1000000L,)\n",
      "C = 249879.457775\n",
      "Vectorized version:2.00009346008ms\n",
      "C = 249879.457775\n",
      "For loop version:893.999814987ms\n",
      "Speedup:446.979020145\n"
     ]
    }
   ],
   "source": [
    "import time\n",
    "\n",
    "a = np.random.rand(1000000)\n",
    "b = np.random.rand(1000000)\n",
    "print np.shape(a)\n",
    "\n",
    "tic1 = time.time()\n",
    "c = np.dot(a,b)\n",
    "toc1 = time.time()\n",
    "print(\"C = \"+str(c))\n",
    "print(\"Vectorized version:\"+str(1000*(toc1-tic1))+\"ms\")\n",
    "\n",
    "c=0\n",
    "tic2 = time.time()\n",
    "for i in range(1000000):\n",
    "    c += a[i] * b[i]\n",
    "toc2 = time.time()\n",
    "print(\"C = \"+str(c))\n",
    "print(\"For loop version:\"+str(1000*(toc2-tic2))+\"ms\")\n",
    "\n",
    "speedup= (toc2-tic2)/(toc1-tic1)\n",
    "print(\"Speedup:\"+ str(speedup))\n"
   ]
  },
  {
   "cell_type": "code",
   "execution_count": 22,
   "metadata": {
    "collapsed": false
   },
   "outputs": [
    {
     "name": "stdout",
     "output_type": "stream",
     "text": [
      "[[  56.     0.     4.4   68. ]\n",
      " [   1.2  104.    52.     8. ]\n",
      " [   1.8  135.    99.     0.9]]\n",
      "[  59.   239.   155.4   76.9]\n",
      "[[ 94.91525424   0.           2.83140283  88.42652796]\n",
      " [  2.03389831  43.51464435  33.46203346  10.40312094]\n",
      " [  3.05084746  56.48535565  63.70656371   1.17035111]]\n"
     ]
    }
   ],
   "source": [
    "A = np.array([[56,0,4.4,68],[1.2,104,52,8],[1.8,135,99,0.9]])\n",
    "print(A)\n",
    "cal = A.sum(axis=0)\n",
    "print(cal)\n",
    "percentage = 100*A/cal.reshape(1,4)\n",
    "print(percentage)"
   ]
  },
  {
   "cell_type": "code",
   "execution_count": 33,
   "metadata": {
    "collapsed": false
   },
   "outputs": [
    {
     "name": "stdout",
     "output_type": "stream",
     "text": [
      "[ 0.21548536  0.07608122  0.49536866  0.20535     0.75513931]\n",
      "(5L,)\n",
      "[ 0.21548536  0.07608122  0.49536866  0.20535     0.75513931]\n",
      "[[-0.06547018]\n",
      " [-2.51658328]\n",
      " [-1.23646758]\n",
      " [ 0.79959063]\n",
      " [-0.4414066 ]]\n",
      "(5L, 1L)\n",
      "[[-0.06547018 -2.51658328 -1.23646758  0.79959063 -0.4414066 ]]\n"
     ]
    }
   ],
   "source": [
    "a = np.random.randn(5)\n",
    "print(a)\n",
    "print(a.shape)\n",
    "# note this is a rank 1 vector and is neither a row nor a column vector\n",
    "# if you print a.T, it will look the same as a!\n",
    "print(a.T)\n",
    "# the solution is to specifically set the dimensions of a, when initializing\n",
    "a = np.random.randn(5,1)\n",
    "# also note, you will see two square brackets now instead of one when it was a rank 1 vector\n",
    "print(a)\n",
    "print(a.shape)\n",
    "print(a.T)\n",
    "assert(a.shape == (5,1))\n",
    "a = a.reshape((5,1))"
   ]
  },
  {
   "cell_type": "code",
   "execution_count": null,
   "metadata": {
    "collapsed": true
   },
   "outputs": [],
   "source": []
  },
  {
   "cell_type": "code",
   "execution_count": null,
   "metadata": {
    "collapsed": true
   },
   "outputs": [],
   "source": []
  }
 ],
 "metadata": {
  "kernelspec": {
   "display_name": "Python 2",
   "language": "python",
   "name": "python2"
  },
  "language_info": {
   "codemirror_mode": {
    "name": "ipython",
    "version": 2
   },
   "file_extension": ".py",
   "mimetype": "text/x-python",
   "name": "python",
   "nbconvert_exporter": "python",
   "pygments_lexer": "ipython2",
   "version": "2.7.13"
  }
 },
 "nbformat": 4,
 "nbformat_minor": 0
}
