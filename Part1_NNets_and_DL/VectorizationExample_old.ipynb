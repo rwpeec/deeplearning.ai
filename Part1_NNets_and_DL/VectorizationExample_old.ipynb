{
 "cells": [
  {
   "cell_type": "code",
   "execution_count": 1,
   "metadata": {
    "collapsed": false
   },
   "outputs": [
    {
     "name": "stdout",
     "output_type": "stream",
     "text": [
      "[1 2 3 4]\n"
     ]
    }
   ],
   "source": [
    "import numpy as np\n",
    "a = np.array([1,2,3,4])\n",
    "print (a)"
   ]
  },
  {
   "cell_type": "code",
   "execution_count": 15,
   "metadata": {
    "collapsed": false
   },
   "outputs": [
    {
     "name": "stdout",
     "output_type": "stream",
     "text": [
      "(1000000L,)\n",
      "C = 249971.480069\n",
      "Vectorized version:1.9998550415ms\n",
      "C = 249971.480069\n",
      "For loop version:687.99996376ms\n",
      "Speedup:344.024916547\n"
     ]
    }
   ],
   "source": [
    "import time\n",
    "\n",
    "a = np.random.rand(1000000)\n",
    "b = np.random.rand(1000000)\n",
    "print np.shape(a)\n",
    "\n",
    "tic1 = time.time()\n",
    "c = np.dot(a,b)\n",
    "toc1 = time.time()\n",
    "print(\"C = \"+str(c))\n",
    "print(\"Vectorized version:\"+str(1000*(toc1-tic1))+\"ms\")\n",
    "\n",
    "c=0\n",
    "tic2 = time.time()\n",
    "for i in range(1000000):\n",
    "    c += a[i] * b[i]\n",
    "toc2 = time.time()\n",
    "print(\"C = \"+str(c))\n",
    "print(\"For loop version:\"+str(1000*(toc2-tic2))+\"ms\")\n",
    "\n",
    "speedup= (toc2-tic2)/(toc1-tic1)\n",
    "print(\"Speedup:\"+ str(speedup))\n"
   ]
  },
  {
   "cell_type": "code",
   "execution_count": null,
   "metadata": {
    "collapsed": true
   },
   "outputs": [],
   "source": []
  }
 ],
 "metadata": {
  "kernelspec": {
   "display_name": "Python 2",
   "language": "python",
   "name": "python2"
  },
  "language_info": {
   "codemirror_mode": {
    "name": "ipython",
    "version": 2
   },
   "file_extension": ".py",
   "mimetype": "text/x-python",
   "name": "python",
   "nbconvert_exporter": "python",
   "pygments_lexer": "ipython2",
   "version": "2.7.13"
  }
 },
 "nbformat": 4,
 "nbformat_minor": 0
}
